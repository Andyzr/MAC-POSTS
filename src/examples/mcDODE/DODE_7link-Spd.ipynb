{
 "cells": [
  {
   "cell_type": "code",
   "execution_count": null,
   "metadata": {},
   "outputs": [],
   "source": [
    "%load_ext autoreload\n",
    "%autoreload 2"
   ]
  },
  {
   "cell_type": "code",
   "execution_count": null,
   "metadata": {},
   "outputs": [],
   "source": [
    "import numpy as np\n",
    "import pandas as pd\n",
    "import sys\n",
    "import datetime\n",
    "import os\n",
    "import matplotlib.pyplot as plt\n",
    "import matplotlib\n",
    "import networkx as nx\n",
    "import pickle\n",
    "from collections import OrderedDict\n",
    "import copy\n",
    "from scipy.sparse import csr_matrix\n",
    "from scipy import io\n",
    "import seaborn as sns\n",
    "import joblib\n",
    "# from base import *\n",
    "from joblib import Parallel, delayed\n",
    "import random\n",
    "import scipy"
   ]
  },
  {
   "cell_type": "code",
   "execution_count": null,
   "metadata": {},
   "outputs": [],
   "source": [
    "import matplotlib.pyplot as plt\n",
    "\n",
    "from matplotlib import colors\n",
    "import matplotlib\n",
    "import six\n",
    "import matplotlib.dates as mdates\n",
    "import datetime\n",
    "import pandas as pd\n",
    "import seaborn as sns\n",
    "sns.set()\n",
    "plt.style.use('seaborn-poster')\n",
    "from sklearn.metrics import r2_score"
   ]
  },
  {
   "cell_type": "code",
   "execution_count": null,
   "metadata": {},
   "outputs": [],
   "source": [
    "MNM_nb_folder = os.path.join('..', '..', '..', 'side_project', 'network_builder')\n",
    "sys.path.append(MNM_nb_folder)\n",
    "python_lib_folder = os.path.join('..', '..', 'pylib')\n",
    "sys.path.append(python_lib_folder)"
   ]
  },
  {
   "cell_type": "code",
   "execution_count": null,
   "metadata": {},
   "outputs": [],
   "source": [
    "from MNMAPI import *\n",
    "from MNM_mcnb import *\n",
    "from mcDODE import *"
   ]
  },
  {
   "cell_type": "code",
   "execution_count": null,
   "metadata": {},
   "outputs": [],
   "source": [
    "data_folder = os.path.join('/home/lemma/Documents/MAC-POSTS/data/input_files_7link_multiclass_new')"
   ]
  },
  {
   "cell_type": "code",
   "execution_count": null,
   "metadata": {},
   "outputs": [],
   "source": [
    "nb = MNM_network_builder()\n",
    "nb.load_from_folder(data_folder)"
   ]
  },
  {
   "cell_type": "code",
   "execution_count": null,
   "metadata": {},
   "outputs": [],
   "source": [
    "# nb.dump_to_folder('test')"
   ]
  },
  {
   "cell_type": "code",
   "execution_count": null,
   "metadata": {},
   "outputs": [],
   "source": [
    "from sklearn.metrics import r2_score\n",
    "from scipy import stats\n",
    "def r2(predictions, targets):\n",
    "    y_bar = np.mean(targets)\n",
    "    # diff = np.minimum(np.abs(predictions - targets), targets)\n",
    "    diff = predictions - targets\n",
    "    ss_e = np.sum(diff ** 2)\n",
    "    ss_t = np.sum((targets) ** 2)\n",
    "    return 1 - ss_e / ss_t\n",
    "\n",
    "def rsquared(x, y):\n",
    "    slope, intercept, r_value, p_value, std_err = stats.linregress(x, y)\n",
    "    return r_value**2\n",
    "\n",
    "def rmse(predictions, targets):\n",
    "    return np.sqrt(((predictions - targets) ** 2).mean())\n",
    "\n",
    "def rmsn(predictions, targets):\n",
    "    return np.sqrt(np.sum((predictions - targets) ** 2) * len(predictions)) / np.sum(targets)"
   ]
  },
  {
   "cell_type": "code",
   "execution_count": null,
   "metadata": {},
   "outputs": [],
   "source": [
    "observed_link_list = [3, 4, 5, 6]\n",
    "ml_car = 6\n",
    "ml_truck = 5\n",
    "data_dict = dict()\n",
    "num_interval = nb.config.config_dict['DTA']['max_interval']\n",
    "# true_car_f = np.random.rand(num_interval * nb.config.config_dict['FIXED']['num_path']) * 300\n",
    "# true_truck_f = np.random.rand(num_interval * nb.config.config_dict['FIXED']['num_path']) * 30\n",
    "true_car_f, true_truck_f, _, _, _, _ = pickle.load(open('final_use.pickle', 'r'))\n",
    "# true_car_x = np.random.rand(num_interval * len(observed_link_list)) * 100\n",
    "# true_truck_x = np.random.rand(num_interval * len(observed_link_list)) * 10\n",
    "# L_car_one = np.random.randint(2, size = (ml_car, len(observed_link_list)))\n",
    "L_car_one = np.array([[1, 0, 0, 1],\n",
    "                      [0, 0, 1, 1],\n",
    "                      [1, 1, 0, 1],\n",
    "                      [1, 0, 1, 1],\n",
    "                      [1, 0, 0, 0],\n",
    "                      [0, 1, 0, 1]])\n",
    "L_truck_one = np.array([[1, 0, 0, 1],\n",
    "                        [0, 0, 0, 1],\n",
    "                        [1, 1, 0, 1],\n",
    "                        [1, 0, 1, 0],\n",
    "                        [0, 1, 0, 1]])\n",
    "# L_truck_one = np.random.randint(2, size = (ml_truck, len(observed_link_list)))\n",
    "L_car = csr_matrix(scipy.linalg.block_diag(*[L_car_one for i in range(num_interval)]))\n",
    "L_truck = csr_matrix(scipy.linalg.block_diag(*[L_truck_one for i in range(num_interval)]))\n",
    "\n",
    "config = dict()\n",
    "config['use_car_link_flow'] = True\n",
    "config['use_truck_link_flow'] = True\n",
    "config['use_car_link_tt'] = True\n",
    "config['use_truck_link_tt'] = True\n",
    "config['car_count_agg'] = True\n",
    "config['truck_count_agg'] = True\n",
    "config['link_car_flow_weight'] = 1\n",
    "config['link_truck_flow_weight'] = 1\n",
    "config['link_car_tt_weight'] = 0.1\n",
    "config['link_truck_tt_weight'] = 0.1\n",
    "config['num_data'] = 8\n",
    "config['observed_links'] = observed_link_list\n",
    "config['paths_list'] = range(nb.config.config_dict['FIXED']['num_path'])\n",
    "\n",
    "\n",
    "config['compute_car_link_flow_loss'] = True\n",
    "config['compute_truck_link_flow_loss'] = True\n",
    "config['compute_car_link_tt_loss'] = True\n",
    "config['compute_truck_link_tt_loss'] = True\n",
    "\n",
    "dode = MCDODE(nb, config)\n",
    "dta = dode._run_simulation(true_car_f, true_truck_f)\n",
    "true_car_dar, true_truck_dar = dode.get_dar(dta, true_car_f, true_truck_f)\n",
    "\n",
    "noise_level = 0.1\n",
    "(true_dar_car, true_dar_truck) = dode.get_dar(dta, true_car_f, true_truck_f)\n",
    "true_car_x = true_dar_car.dot(true_car_f)\n",
    "true_truck_x = true_dar_truck.dot(true_truck_f)\n",
    "data_dict['car_count_agg_L_list'] = list()\n",
    "data_dict['truck_count_agg_L_list'] = list()\n",
    "data_dict['car_link_flow'] = []\n",
    "data_dict['truck_link_flow'] = []\n",
    "data_dict['car_link_tt'] = []\n",
    "data_dict['truck_link_tt'] = []\n",
    "for i in range(config['num_data']):\n",
    "    true_car_x = dta.get_link_car_inflow(np.arange(0, dode.num_loading_interval, dode.ass_freq), \n",
    "                  np.arange(0, dode.num_loading_interval, dode.ass_freq) + dode.ass_freq).flatten(order = 'F')\n",
    "    true_truck_x = dta.get_link_truck_inflow(np.arange(0, dode.num_loading_interval, dode.ass_freq), \n",
    "                  np.arange(0, dode.num_loading_interval, dode.ass_freq) + dode.ass_freq).flatten(order = 'F')\n",
    "#     true_car_tt = dta.get_car_link_tt_robust(np.arange(0, dode.num_loading_interval, dode.ass_freq),\n",
    "#                              np.arange(0, dode.num_loading_interval, dode.ass_freq) + dode.ass_freq).flatten(order = 'F')\n",
    "    true_car_tt = dta.get_car_link_tt(np.arange(0, dode.num_loading_interval, dode.ass_freq)).flatten(order = 'F')\n",
    "    true_truck_tt = dta.get_truck_link_tt(np.arange(0, dode.num_loading_interval, dode.ass_freq)).flatten(order = 'F')\n",
    "    m_car = L_car.dot(true_car_x)\n",
    "    m_truck = L_truck.dot(true_truck_x)\n",
    "    data_dict['car_count_agg_L_list'].append(L_car)\n",
    "    data_dict['truck_count_agg_L_list'].append(L_truck)\n",
    "    data_dict['car_link_flow'].append(m_car + np.random.uniform(-1, 1, m_car.shape) * noise_level * m_car)\n",
    "    data_dict['truck_link_flow'].append(m_truck + np.random.uniform(-1, 1, m_truck.shape) * noise_level * m_truck)\n",
    "    data_dict['car_link_tt'].append(true_car_tt + np.random.uniform(-1, 1, true_car_tt.shape) * noise_level * true_car_tt)\n",
    "    data_dict['truck_link_tt'].append(true_truck_tt + np.random.uniform(-1, 1, true_truck_tt.shape) * noise_level * true_truck_tt)"
   ]
  },
  {
   "cell_type": "code",
   "execution_count": null,
   "metadata": {},
   "outputs": [],
   "source": [
    "np.max(np.abs(true_car_dar.dot(true_car_f) - true_car_x))"
   ]
  },
  {
   "cell_type": "code",
   "execution_count": null,
   "metadata": {},
   "outputs": [],
   "source": [
    "np.max(np.abs(true_truck_dar.dot(true_truck_f) - true_truck_x))"
   ]
  },
  {
   "cell_type": "code",
   "execution_count": null,
   "metadata": {},
   "outputs": [],
   "source": [
    "true_truck_x"
   ]
  },
  {
   "cell_type": "code",
   "execution_count": null,
   "metadata": {},
   "outputs": [],
   "source": [
    "np.linalg.matrix_rank(np.matrix(L_car_one))"
   ]
  },
  {
   "cell_type": "code",
   "execution_count": null,
   "metadata": {},
   "outputs": [],
   "source": [
    "np.linalg.matrix_rank(np.matrix(L_truck_one))"
   ]
  },
  {
   "cell_type": "code",
   "execution_count": null,
   "metadata": {},
   "outputs": [],
   "source": [
    "dode.paths_list"
   ]
  },
  {
   "cell_type": "code",
   "execution_count": null,
   "metadata": {},
   "outputs": [],
   "source": [
    "true_car_tt"
   ]
  },
  {
   "cell_type": "code",
   "execution_count": null,
   "metadata": {},
   "outputs": [],
   "source": [
    "true_truck_x"
   ]
  },
  {
   "cell_type": "code",
   "execution_count": null,
   "metadata": {},
   "outputs": [],
   "source": [
    "true_car_x"
   ]
  },
  {
   "cell_type": "code",
   "execution_count": null,
   "metadata": {},
   "outputs": [],
   "source": [
    "m_truck"
   ]
  },
  {
   "cell_type": "code",
   "execution_count": null,
   "metadata": {},
   "outputs": [],
   "source": []
  },
  {
   "cell_type": "code",
   "execution_count": null,
   "metadata": {},
   "outputs": [],
   "source": [
    "dode = MCDODE(nb, config)"
   ]
  },
  {
   "cell_type": "code",
   "execution_count": null,
   "metadata": {},
   "outputs": [],
   "source": [
    "dode.add_data(data_dict)"
   ]
  },
  {
   "cell_type": "code",
   "execution_count": null,
   "metadata": {},
   "outputs": [],
   "source": [
    "# nb.update_demand_path2(true_car_f, true_truck_f)\n",
    "# nb.dump_to_folder(\"one\")\n",
    "# nb.update_demand_path2(car_flow, truck_flow)\n",
    "# nb.dump_to_folder(\"two\")"
   ]
  },
  {
   "cell_type": "code",
   "execution_count": null,
   "metadata": {},
   "outputs": [],
   "source": [
    "# (car_flow, truck_flow) = dode.init_path_flow(car_scale = 10, truck_scale = 1)"
   ]
  },
  {
   "cell_type": "code",
   "execution_count": null,
   "metadata": {},
   "outputs": [],
   "source": [
    "# pickle.dump((car_flow, truck_flow, None), open('test.pickle', 'w'))"
   ]
  },
  {
   "cell_type": "code",
   "execution_count": null,
   "metadata": {},
   "outputs": [],
   "source": [
    "(car_flow, truck_flow, l_list) = dode.estimate_path_flow(max_epoch = 100, car_step_size = 1, \n",
    "                                                         truck_step_size = 0.1, car_init_scale = 5, \n",
    "                                                          truck_init_scale = 1, adagrad = True)\n",
    "print r2_score(car_flow, true_car_f), r2_score(truck_flow, true_truck_f)"
   ]
  },
  {
   "cell_type": "code",
   "execution_count": null,
   "metadata": {},
   "outputs": [],
   "source": [
    "pickle.dump([true_car_f, true_truck_f, car_flow, truck_flow, l_list, data_dict], open('final_use2.pickle', 'w'))"
   ]
  },
  {
   "cell_type": "code",
   "execution_count": null,
   "metadata": {},
   "outputs": [],
   "source": [
    "color_list = ['teal', 'tomato', 'blue', 'sienna', 'plum', 'red', 'yellowgreen', 'khaki']\n",
    "marker_list = [\"o\", \"v\", \"^\", \"<\", \">\", \"p\", \"D\",\"*\",\"s\", \"D\", \"p\"]"
   ]
  },
  {
   "cell_type": "code",
   "execution_count": null,
   "metadata": {},
   "outputs": [],
   "source": [
    "_, _, car_flow, truck_flow, l_list, _ = pickle.load(open('final_use2.pickle', 'r'))"
   ]
  },
  {
   "cell_type": "code",
   "execution_count": null,
   "metadata": {},
   "outputs": [],
   "source": [
    "plt.figure(figsize = (16,9), dpi=300)\n",
    "plt.plot(np.arange(len(l_list))+1, list(map(lambda x: x[1]['truck_tt_loss']/l_list[0][1]['truck_tt_loss'], l_list)), \n",
    "         color = color_list[0], linewidth = 3, label = \"Truck observed travel cost\")\n",
    "plt.plot(np.arange(len(l_list))+1, list(map(lambda x: x[1]['car_tt_loss']/l_list[0][1]['car_tt_loss'], l_list)),\n",
    "         color = color_list[1], linewidth = 3, label = \"Car observed travel cost\")\n",
    "plt.plot(np.arange(len(l_list))+1, list(map(lambda x: x[1]['car_count_loss']/l_list[0][1]['car_count_loss'], l_list)),\n",
    "         color = color_list[2], linewidth = 3, label = \"Car observed flow\")\n",
    "plt.plot(np.arange(len(l_list))+1, list(map(lambda x: x[1]['truck_count_loss']/l_list[0][1]['truck_count_loss'], l_list)),\n",
    "         color = color_list[3], linewidth = 3, label = \"Truck observed flow\")\n",
    "# plt.plot(range(len(l_list)), list(map(lambda x: x[0]/8, l_list)),\n",
    "#          color = color_list[4], linewidth = 3, label = \"Total cost\")\n",
    "\n",
    "plt.ylabel('Loss function')\n",
    "plt.xlabel('Iteration')\n",
    "plt.legend()\n",
    "plt.ylim([0, 1])\n",
    "plt.xlim([1, 100])\n",
    "plt.show()"
   ]
  },
  {
   "cell_type": "code",
   "execution_count": null,
   "metadata": {
    "scrolled": false
   },
   "outputs": [],
   "source": [
    "# (car_flow, truck_flow, l_list) = dode.estimate_path_flow_mp(max_epoch = 200, step_size = 0.1, car_init_scale = 5, \n",
    "#                                                           truck_init_scale = 0.1, \n",
    "#                                                           adagrad = True, n_process = 8)"
   ]
  },
  {
   "cell_type": "code",
   "execution_count": null,
   "metadata": {
    "scrolled": true
   },
   "outputs": [],
   "source": [
    "# (car_flow, truck_flow, l_list) = dode.estimate_path_flow(max_epoch = 200, step_size = 0.1, car_init_scale = 5, \n",
    "#                                                           truck_init_scale = 0.1, adagrad = True)"
   ]
  },
  {
   "cell_type": "code",
   "execution_count": null,
   "metadata": {},
   "outputs": [],
   "source": [
    "# plt.figure(figsize = (16,9), dpi=300)\n",
    "# plt.plot(range(1,151), l_list, color = 'tomato', linewidth = 3)\n",
    "# plt.ylabel('Loss')\n",
    "# plt.xlabel('Iteration')\n",
    "# plt.xlim([1, 150])\n",
    "# plt.show()"
   ]
  },
  {
   "cell_type": "code",
   "execution_count": null,
   "metadata": {},
   "outputs": [],
   "source": [
    "dta = dode._run_simulation(true_car_f, truck_flow)\n",
    "estimated_car_x = dta.get_link_car_inflow(np.arange(0, dode.num_loading_interval, dode.ass_freq), \n",
    "              np.arange(0, dode.num_loading_interval, dode.ass_freq) + dode.ass_freq).flatten(order = 'F')\n",
    "estimated_truck_x = dta.get_link_truck_inflow(np.arange(0, dode.num_loading_interval, dode.ass_freq), \n",
    "              np.arange(0, dode.num_loading_interval, dode.ass_freq) + dode.ass_freq).flatten(order = 'F')"
   ]
  },
  {
   "cell_type": "code",
   "execution_count": null,
   "metadata": {},
   "outputs": [],
   "source": [
    "fig, axes = plt.subplots(1,2,  figsize=(16, 9), dpi=300)\n",
    "# plt.figure(num=None, figsize=(16, 9), dpi=300, facecolor='w', edgecolor='k')\n",
    "axes[0].scatter(m_car, L_car.dot(estimated_car_x), label = \"Proposed direct solution\", color = 'teal', marker = '*', s = 100)\n",
    "axes[0].plot(range(350), range(350), label = \"Convex optimization solution\", color = 'gray')\n",
    "axes[1].scatter(m_truck, L_truck.dot(estimated_truck_x), label = \"Proposed closed-form method\", color = 'tomato', \n",
    "                marker = \"o\", s = 100)\n",
    "axes[1].plot(range(350), range(350), label = \"Convex optimization solution\", color = 'gray')\n",
    "# axes[1].plot(time_list2, gap_rec2, label = \"Quadratic solver method\", color = 'tomato')\n",
    "# plt.ylabel(\"Equilibrium Gap\")\n",
    "# plt.xlabel(\"Iterations\")\n",
    "# plt.legend()\n",
    "# plt.xlim([1, 100])\n",
    "# axes[1].legend(loc='center left', bbox_to_anchor=(1, 0.5))\n",
    "# axes[0].set_title('Path flow rate (vehs/15-min)')\n",
    "# axes[1].set_title('Path choice probablity')\n",
    "axes[0].set_ylabel('Estimated otrue_car_ttbserved flow for car')\n",
    "axes[0].set_xlabel('True observed flow for car')\n",
    "axes[1].set_ylabel('Estimated observed flow for truck')\n",
    "axes[1].set_xlabel('True observed flow for truck')\n",
    "axes[0].set_xlim([0, 350])\n",
    "axes[0].set_ylim([0, 350])\n",
    "axes[1].set_xlim([0, 50])\n",
    "axes[1].set_ylim([0, 50])\n",
    "plt.show()"
   ]
  },
  {
   "cell_type": "code",
   "execution_count": null,
   "metadata": {},
   "outputs": [],
   "source": []
  },
  {
   "cell_type": "code",
   "execution_count": null,
   "metadata": {},
   "outputs": [],
   "source": [
    "e_m_truck =L_truck.dot(estimated_truck_x)\n",
    "print rmsn(m_car, L_car.dot(estimated_car_x))\n",
    "print rmsn(m_truck[e_m_truck < 50], e_m_truck[e_m_truck < 50])"
   ]
  },
  {
   "cell_type": "code",
   "execution_count": null,
   "metadata": {
    "scrolled": false
   },
   "outputs": [],
   "source": [
    "fig, axes = plt.subplots(1,2,  figsize=(16, 9), dpi=300)\n",
    "# plt.figure(num=None, figsize=(16, 9), dpi=300, facecolor='w', edgecolor='k')\n",
    "axes[0].scatter(true_car_tt, dta.get_car_link_tt(np.arange(0, dode.num_loading_interval, dode.ass_freq)).flatten(order = 'F'), label = \"Proposed direct solution\", color = 'teal', marker = '*', s = 100)\n",
    "axes[0].plot(range(350), range(350), label = \"Convex optimization solution\", color = 'gray')\n",
    "axes[1].scatter(true_truck_tt, dta.get_truck_link_tt(np.arange(0, dode.num_loading_interval, dode.ass_freq)).flatten(order = 'F'), label = \"Proposed closed-form method\", color = 'tomato', \n",
    "                marker = \"o\", s = 100)\n",
    "axes[1].plot(range(350), range(350), label = \"Convex optimization solution\", color = 'gray')\n",
    "# axes[1].plot(time_list2, gap_rec2, label = \"Quadratic solver method\", color = 'tomato')\n",
    "# plt.ylabel(\"Equilibrium Gap\")\n",
    "# plt.xlabel(\"Iterations\")\n",
    "# plt.legend()\n",
    "# plt.xlim([1, 100])\n",
    "# axes[1].legend(loc='center left', bbox_to_anchor=(1, 0.5))\n",
    "# axes[0].set_title('Path flow rate (vehs/15-min)')\n",
    "# axes[1].set_title('Path choice probablity')\n",
    "axes[0].set_ylabel('Estimated observed flow for car')\n",
    "axes[0].set_xlabel('True observed flow for car')\n",
    "axes[1].set_ylabel('Estimated observed flow for truck')\n",
    "axes[1].set_xlabel('True observed flow for truck')\n",
    "axes[0].set_xlim([0, 120])\n",
    "axes[0].set_ylim([0, 120])\n",
    "axes[1].set_xlim([0, 200])\n",
    "axes[1].set_ylim([0, 200])\n",
    "plt.show()"
   ]
  },
  {
   "cell_type": "code",
   "execution_count": null,
   "metadata": {},
   "outputs": [],
   "source": [
    "est_car_tt = dta.get_car_link_tt(np.arange(0, dode.num_loading_interval, dode.ass_freq)).flatten(order = 'F')\n",
    "print r2(true_car_tt, est_car_tt)\n",
    "est_truck_tt = dta.get_truck_link_tt(np.arange(0, dode.num_loading_interval, dode.ass_freq)).flatten(order = 'F')\n",
    "print r2(true_truck_tt, est_truck_tt)"
   ]
  },
  {
   "cell_type": "code",
   "execution_count": null,
   "metadata": {},
   "outputs": [],
   "source": [
    "dta.get_car_link_tt(np.arange(0, dode.num_loading_interval, dode.ass_freq)).flatten(order = 'F')"
   ]
  },
  {
   "cell_type": "code",
   "execution_count": null,
   "metadata": {},
   "outputs": [],
   "source": [
    "fig, axes = plt.subplots(1,2,  figsize=(16, 9), dpi=300)\n",
    "# plt.figure(num=None, figsize=(16, 9), dpi=300, facecolor='w', edgecolor='k')\n",
    "axes[0].scatter(true_car_x, estimated_car_x, label = \"Proposed direct solution\", color = 'teal', marker = '*', s = 100)\n",
    "axes[0].plot(range(350), range(350), label = \"Convex optimization solution\", color = 'gray')\n",
    "axes[1].scatter(true_truck_x, estimated_truck_x, label = \"Proposed closed-form method\", color = 'tomato', \n",
    "                marker = \"o\", s = 100)\n",
    "axes[1].plot(range(350), range(350), label = \"Convex optimization solution\", color = 'gray')\n",
    "# axes[1].plot(time_list2, gap_rec2, label = \"Quadratic solver method\", color = 'tomato')\n",
    "# plt.ylabel(\"Equilibrium Gap\")\n",
    "# plt.xlabel(\"Iterations\")\n",
    "# plt.legend()\n",
    "# plt.xlim([1, 100])\n",
    "# axes[1].legend(loc='center left', bbox_to_anchor=(1, 0.5))\n",
    "# axes[0].set_title('Path flow rate (vehs/15-min)')\n",
    "# axes[1].set_title('Path choice probablity')\n",
    "axes[0].set_ylabel('Estimated link flow for car')\n",
    "axes[0].set_xlabel('True link flow for car')\n",
    "axes[1].set_ylabel('Estimated link flow for truck')\n",
    "axes[1].set_xlabel('True link flow for truck')\n",
    "axes[0].set_xlim([0, 200])\n",
    "axes[0].set_ylim([0, 200])\n",
    "axes[1].set_xlim([0, 50])\n",
    "axes[1].set_ylim([0, 50])\n",
    "plt.show()"
   ]
  },
  {
   "cell_type": "code",
   "execution_count": null,
   "metadata": {},
   "outputs": [],
   "source": [
    "print r2(true_car_x, estimated_car_x)\n",
    "print r2(true_truck_x[estimated_truck_x<30], estimated_truck_x[estimated_truck_x<30])"
   ]
  },
  {
   "cell_type": "code",
   "execution_count": null,
   "metadata": {},
   "outputs": [],
   "source": [
    "true_car_q = true_car_f.reshape(3, -1, order = 'F').sum(axis = 0)\n",
    "est_car_q = car_flow.reshape(3, -1, order = 'F').sum(axis = 0)\n",
    "true_truck_q = true_truck_f.reshape(3, -1, order = 'F').sum(axis = 0)\n",
    "est_truck_q = truck_flow.reshape(3, -1, order = 'F').sum(axis = 0)\n",
    "\n",
    "fig, axes = plt.subplots(1,2,  figsize=(16, 9), dpi=300)\n",
    "# truck_flow = true_truck_f + np.random.rand(len(true_car_f)) * 2- 1\n",
    "# plt.figure(num=None, figsize=(16, 9), dpi=300, facecolor='w', edgecolor='k')\n",
    "axes[0].scatter(true_car_q, est_car_q, label = \"Proposed direct solution\", color = 'teal', marker = '*', s = 100)\n",
    "axes[0].plot(range(350), range(350), label = \"Convex optimization solution\", color = 'gray')\n",
    "axes[1].scatter(true_truck_q, est_truck_q, label = \"Proposed closed-form method\", color = 'tomato', \n",
    "                marker = \"o\", s = 100)\n",
    "axes[1].plot(range(350), range(350), label = \"Convex optimization solution\", color = 'gray')\n",
    "# axes[1].plot(time_list2, gap_rec2, label = \"Quadratic solver method\", color = 'tomato')\n",
    "# plt.ylabel(\"Equilibrium Gap\")\n",
    "# plt.xlabel(\"Iterations\")\n",
    "# plt.legend()\n",
    "# plt.xlim([1, 100])\n",
    "# axes[1].legend(loc='center left', bbox_to_anchor=(1, 0.5))\n",
    "# axes[0].set_title('Path flow rate (vehs/15-min)')\n",
    "# axes[1].set_title('Path choice probablity')\n",
    "axes[0].set_ylabel('Estimated OD flow for car')\n",
    "axes[0].set_xlabel('True OD flow for car')\n",
    "axes[1].set_ylabel('Estimated OD flow for truck')\n",
    "axes[1].set_xlabel('True OD flow for truck')\n",
    "axes[0].set_xlim([0, 350])\n",
    "axes[0].set_ylim([0, 350])\n",
    "axes[1].set_xlim([0, 80])\n",
    "axes[1].set_ylim([0, 80])\n",
    "plt.show()"
   ]
  },
  {
   "cell_type": "code",
   "execution_count": null,
   "metadata": {},
   "outputs": [],
   "source": [
    "print r2(true_car_q, est_car_q)\n",
    "print r2(true_truck_q, est_truck_q)"
   ]
  },
  {
   "cell_type": "markdown",
   "metadata": {},
   "source": [
    "## Without speed"
   ]
  },
  {
   "cell_type": "code",
   "execution_count": null,
   "metadata": {},
   "outputs": [],
   "source": [
    "config = dict()\n",
    "config['use_car_link_flow'] = True\n",
    "config['use_truck_link_flow'] = True\n",
    "config['use_car_link_tt'] = False\n",
    "config['use_truck_link_tt'] = False\n",
    "config['car_count_agg'] = True\n",
    "config['truck_count_agg'] = True\n",
    "config['link_car_flow_weight'] = 1\n",
    "config['link_truck_flow_weight'] = 1\n",
    "config['link_car_tt_weight'] = 0.1\n",
    "config['link_truck_tt_weight'] = 0.1\n",
    "config['num_data'] = 8\n",
    "config['observed_links'] = observed_link_list\n",
    "config['paths_list'] = range(nb.config.config_dict['FIXED']['num_path'])\n",
    "\n",
    "\n",
    "config['compute_car_link_flow_loss'] = True\n",
    "config['compute_truck_link_flow_loss'] = True\n",
    "config['compute_car_link_tt_loss'] = True\n",
    "config['compute_truck_link_tt_loss'] = True"
   ]
  },
  {
   "cell_type": "code",
   "execution_count": null,
   "metadata": {},
   "outputs": [],
   "source": [
    "dode = MCDODE(nb, config)\n",
    "dode.add_data(data_dict)"
   ]
  },
  {
   "cell_type": "code",
   "execution_count": null,
   "metadata": {},
   "outputs": [],
   "source": [
    "(car_flow, truck_flow, l_list) = dode.estimate_path_flow(max_epoch = 100, car_step_size = 1, \n",
    "                                                         truck_step_size = 0.1, car_init_scale = 5, \n",
    "                                                          truck_init_scale = 1, adagrad = True)\n",
    "print r2_score(car_flow, true_car_f), r2_score(truck_flow, true_truck_f)"
   ]
  },
  {
   "cell_type": "code",
   "execution_count": null,
   "metadata": {},
   "outputs": [],
   "source": [
    "# pickle.dump([true_car_f, true_truck_f, car_flow, truck_flow, l_list, data_dict], open('no_spd.pickle', 'w'))"
   ]
  },
  {
   "cell_type": "code",
   "execution_count": null,
   "metadata": {},
   "outputs": [],
   "source": [
    "true_car_q = true_car_f.reshape(3, -1, order = 'F').sum(axis = 0)\n",
    "est_car_q = car_flow.reshape(3, -1, order = 'F').sum(axis = 0)\n",
    "true_truck_q = true_truck_f.reshape(3, -1, order = 'F').sum(axis = 0)\n",
    "est_truck_q = truck_flow.reshape(3, -1, order = 'F').sum(axis = 0)\n"
   ]
  },
  {
   "cell_type": "code",
   "execution_count": null,
   "metadata": {},
   "outputs": [],
   "source": [
    "print r2_score(true_car_q, est_car_q)\n",
    "print r2_score(true_truck_q, est_truck_q)"
   ]
  },
  {
   "cell_type": "code",
   "execution_count": null,
   "metadata": {},
   "outputs": [],
   "source": [
    "_, _, _, _, l_list, _ = pickle.load(open('final_use.pickle', 'r'))\n",
    "_, _, _, _, l_list_nospd, _ = pickle.load(open('no_spd.pickle', 'r'))"
   ]
  },
  {
   "cell_type": "code",
   "execution_count": null,
   "metadata": {},
   "outputs": [],
   "source": [
    "plt.figure(figsize = (16,9), dpi=300)\n",
    "plt.plot(np.arange(len(l_list))+1, list(map(lambda x: x[1]['car_count_loss'], l_list)), \n",
    "         color = color_list[0], linewidth = 3, label = \"Truck observed travel cost\")\n",
    "plt.plot(np.arange(len(l_list))+1, list(map(lambda x: x[1]['car_count_loss'], l_list_nospd)),\n",
    "         color = color_list[1], linewidth = 3, label = \"ooo\")\n",
    "# plt.plot(np.arange(len(l_list))+1, list(map(lambda x: x[1]['car_count_loss']/10, l_list)),\n",
    "#          color = color_list[2], linewidth = 3, label = \"Car observed flow\")\n",
    "# plt.plot(np.arange(len(l_list))+1, list(map(lambda x: x[1]['truck_count_loss'], l_list)),\n",
    "#          color = color_list[3], linewidth = 3, label = \"Truck observed flow\")\n",
    "# plt.plot(range(len(l_list)), list(map(lambda x: x[0]/8, l_list)),\n",
    "#          color = color_list[4], linewidth = 3, label = \"Total cost\")\n",
    "\n",
    "plt.ylabel('Loss function')\n",
    "plt.xlabel('Iteration')\n",
    "plt.legend()\n",
    "plt.xlim([1, 100])\n",
    "plt.show()"
   ]
  },
  {
   "cell_type": "markdown",
   "metadata": {},
   "source": [
    "## Multiple cpu"
   ]
  },
  {
   "cell_type": "code",
   "execution_count": null,
   "metadata": {},
   "outputs": [],
   "source": [
    "observed_link_list = [3, 4, 5, 6]\n",
    "ml_car = 6\n",
    "ml_truck = 5\n",
    "data_dict = dict()\n",
    "num_interval = nb.config.config_dict['DTA']['max_interval']\n",
    "# true_car_f = np.random.rand(num_interval * nb.config.config_dict['FIXED']['num_path']) * 300\n",
    "# true_truck_f = np.random.rand(num_interval * nb.config.config_dict['FIXED']['num_path']) * 30\n",
    "true_car_f, true_truck_f, _, _, _, _ = pickle.load(open('final_use.pickle', 'r'))\n",
    "# true_car_x = np.random.rand(num_interval * len(observed_link_list)) * 100\n",
    "# true_truck_x = np.random.rand(num_interval * len(observed_link_list)) * 10\n",
    "# L_car_one = np.random.randint(2, size = (ml_car, len(observed_link_list)))\n",
    "L_car_one = np.array([[1, 0, 0, 1],\n",
    "                      [0, 0, 1, 1],\n",
    "                      [1, 1, 0, 1],\n",
    "                      [1, 0, 1, 1],\n",
    "                      [1, 0, 0, 0],\n",
    "                      [0, 1, 0, 1]])\n",
    "L_truck_one = np.array([[1, 0, 0, 1],\n",
    "                        [0, 0, 0, 1],\n",
    "                        [1, 1, 0, 1],\n",
    "                        [1, 0, 1, 0],\n",
    "                        [0, 1, 0, 1]])\n",
    "# L_truck_one = np.random.randint(2, size = (ml_truck, len(observed_link_list)))\n",
    "L_car = csr_matrix(scipy.linalg.block_diag(*[L_car_one for i in range(num_interval)]))\n",
    "L_truck = csr_matrix(scipy.linalg.block_diag(*[L_truck_one for i in range(num_interval)]))\n",
    "\n",
    "config = dict()\n",
    "config['use_car_link_flow'] = True\n",
    "config['use_truck_link_flow'] = True\n",
    "config['use_car_link_tt'] = True\n",
    "config['use_truck_link_tt'] = True\n",
    "config['car_count_agg'] = True\n",
    "config['truck_count_agg'] = True\n",
    "config['link_car_flow_weight'] = 1\n",
    "config['link_truck_flow_weight'] = 1\n",
    "config['link_car_tt_weight'] = 0.1\n",
    "config['link_truck_tt_weight'] = 0.1\n",
    "config['num_data'] = 8\n",
    "config['observed_links'] = observed_link_list\n",
    "config['paths_list'] = range(nb.config.config_dict['FIXED']['num_path'])\n",
    "\n",
    "\n",
    "config['compute_car_link_flow_loss'] = True\n",
    "config['compute_truck_link_flow_loss'] = True\n",
    "config['compute_car_link_tt_loss'] = True\n",
    "config['compute_truck_link_tt_loss'] = True\n",
    "\n",
    "dode = MCDODE(nb, config)\n",
    "dta = dode._run_simulation(true_car_f, true_truck_f)\n",
    "true_car_dar, true_truck_dar = dode.get_dar(dta, true_car_f, true_truck_f)\n",
    "\n",
    "noise_level = 0.1\n",
    "# (true_dar_car, true_dar_truck) = dode.get_dar(dta, true_car_f, true_truck_f)\n",
    "# true_car_x = true_dar_car.dot(true_car_f)\n",
    "# true_truck_x = true_dar_truck.dot(true_truck_f)\n",
    "data_dict['car_count_agg_L_list'] = list()\n",
    "data_dict['truck_count_agg_L_list'] = list()\n",
    "data_dict['car_link_flow'] = []\n",
    "data_dict['truck_link_flow'] = []\n",
    "data_dict['car_link_tt'] = []\n",
    "data_dict['truck_link_tt'] = []\n",
    "for i in range(config['num_data']):\n",
    "    true_car_x = dta.get_link_car_inflow(np.arange(0, dode.num_loading_interval, dode.ass_freq), \n",
    "                  np.arange(0, dode.num_loading_interval, dode.ass_freq) + dode.ass_freq).flatten(order = 'F')\n",
    "    true_truck_x = dta.get_link_truck_inflow(np.arange(0, dode.num_loading_interval, dode.ass_freq), \n",
    "                  np.arange(0, dode.num_loading_interval, dode.ass_freq) + dode.ass_freq).flatten(order = 'F')\n",
    "#     true_car_tt = dta.get_car_link_tt_robust(np.arange(0, dode.num_loading_interval, dode.ass_freq),\n",
    "#                              np.arange(0, dode.num_loading_interval, dode.ass_freq) + dode.ass_freq).flatten(order = 'F')\n",
    "    true_car_tt = dta.get_car_link_tt(np.arange(0, dode.num_loading_interval, dode.ass_freq)).flatten(order = 'F')\n",
    "    true_truck_tt = dta.get_truck_link_tt(np.arange(0, dode.num_loading_interval, dode.ass_freq)).flatten(order = 'F')\n",
    "    m_car = L_car.dot(true_car_x)\n",
    "    m_truck = L_truck.dot(true_truck_x)\n",
    "    data_dict['car_count_agg_L_list'].append(L_car)\n",
    "    data_dict['truck_count_agg_L_list'].append(L_truck)\n",
    "    data_dict['car_link_flow'].append(m_car + np.random.uniform(-1, 1, m_car.shape) * noise_level * m_car)\n",
    "    data_dict['truck_link_flow'].append(m_truck + np.random.uniform(-1, 1, m_truck.shape) * noise_level * m_truck)\n",
    "    data_dict['car_link_tt'].append(true_car_tt + np.random.uniform(-1, 1, true_car_tt.shape) * noise_level * true_car_tt)\n",
    "    data_dict['truck_link_tt'].append(true_truck_tt + np.random.uniform(-1, 1, true_truck_tt.shape) * noise_level * true_truck_tt)"
   ]
  },
  {
   "cell_type": "code",
   "execution_count": null,
   "metadata": {},
   "outputs": [],
   "source": [
    "dode = MCDODE(nb, config)\n",
    "dode.add_data(data_dict)"
   ]
  },
  {
   "cell_type": "code",
   "execution_count": null,
   "metadata": {},
   "outputs": [],
   "source": [
    "for n in [1,2,4,8]:\n",
    "    (car_flow, truck_flow, l_list) = dode.estimate_path_flow_mp(max_epoch = 100, car_step_size = 1, \n",
    "                                                             truck_step_size = 0.1, car_init_scale = 5, \n",
    "                                                              truck_init_scale = 1, adagrad = True, \n",
    "                                                                record_time = True, n_process = n)\n",
    "#     print r2_score(car_flow, true_car_f), r2_score(truck_flow, true_truck_f)\n",
    "    print l_list[99][2]\n",
    "    pickle.dump([true_car_f, true_truck_f, car_flow, truck_flow, l_list, data_dict], open(\"cpu\" + str(n)+ '.pickle', 'w'))"
   ]
  },
  {
   "cell_type": "code",
   "execution_count": null,
   "metadata": {},
   "outputs": [],
   "source": [
    "plt.figure(figsize=(16, 9), dpi=300)\n",
    "for i, n in enumerate([1,2,4,8]):\n",
    "    [_, _, _, _, l_list, _] = pickle.load(open(\"cpu\" + str(n)+ '.pickle', 'r'))\n",
    "#     axes[0].plot(np.arange(100)+1, list(map(lambda x: x[0]/8, l_list)) , label = \"cpu\" + str(n), color = color_list[i])\n",
    "    plt.plot(list(map(lambda x: x[2], l_list)), list(map(lambda x: x[0]/8, l_list)), label = \"cpu\" + str(n), color = color_list[i])\n",
    "plt.legend()\n",
    "plt.show()"
   ]
  },
  {
   "cell_type": "markdown",
   "metadata": {},
   "source": [
    "## Compare algorithm"
   ]
  },
  {
   "cell_type": "code",
   "execution_count": null,
   "metadata": {},
   "outputs": [],
   "source": [
    "dode = MCDODE(nb, config)\n",
    "dode.add_data(data_dict)"
   ]
  },
  {
   "cell_type": "code",
   "execution_count": null,
   "metadata": {
    "scrolled": true
   },
   "outputs": [],
   "source": [
    "(car_flow, truck_flow, l_list_gd) = dode.estimate_path_flow(max_epoch = 100, car_step_size = 0.01, \n",
    "                                                          truck_step_size = 0.001, car_init_scale = 5, \n",
    "                                                          truck_init_scale = 0.1, adagrad = False)"
   ]
  },
  {
   "cell_type": "code",
   "execution_count": null,
   "metadata": {},
   "outputs": [],
   "source": [
    "pickle.dump([true_car_f, true_truck_f, car_flow, truck_flow, l_list_gd, data_dict], open(\"sgd.pickle\", 'w'))"
   ]
  },
  {
   "cell_type": "code",
   "execution_count": null,
   "metadata": {
    "scrolled": true
   },
   "outputs": [],
   "source": [
    "(car_flow, truck_flow, l_list_gd) = dode.estimate_path_flow_gd(max_epoch = 100, car_step_size = 0.01, \n",
    "                                                          truck_step_size = 0.001, car_init_scale = 5, \n",
    "                                                          truck_init_scale = 0.1, adagrad = False)"
   ]
  },
  {
   "cell_type": "code",
   "execution_count": null,
   "metadata": {},
   "outputs": [],
   "source": [
    "pickle.dump([true_car_f, true_truck_f, car_flow, truck_flow, l_list_gd, data_dict], open(\"gd.pickle\", 'w'))"
   ]
  },
  {
   "cell_type": "code",
   "execution_count": null,
   "metadata": {},
   "outputs": [],
   "source": [
    "[_, _, _, _, l_list1, _] = pickle.load(open(\"final_use.pickle\", 'r'))\n",
    "[_, _, _, _, l_list2, _] = pickle.load(open(\"sgd.pickle\", 'r'))\n",
    "[_, _, _, _, l_list3, _] = pickle.load(open(\"gd.pickle\", 'r'))"
   ]
  },
  {
   "cell_type": "code",
   "execution_count": null,
   "metadata": {},
   "outputs": [],
   "source": [
    "plt.figure(figsize = (16,9), dpi = 300)\n",
    "plt.plot(np.arange(100)+1, list(map(lambda x: x[0]/8, l_list3)), color = 'teal', label =\"GD\", linewidth = 3)\n",
    "plt.plot(np.arange(101)+1, [l_list3[0][0]/8]+list(map(lambda x: x[0]/8, l_list2)), color = 'tomato', label = \"SGD\", linewidth = 3)\n",
    "plt.plot(np.arange(101)+1, [l_list3[0][0]/8]+list(map(lambda x: x[0]/8, l_list1)), color = 'blue', label = \"Adagrad\", linewidth = 3)\n",
    "plt.legend()\n",
    "plt.ylabel('Loss')\n",
    "plt.xlabel('Iteration')\n",
    "plt.xlim([1, 100])\n",
    "plt.show()"
   ]
  },
  {
   "cell_type": "code",
   "execution_count": null,
   "metadata": {},
   "outputs": [],
   "source": []
  },
  {
   "cell_type": "markdown",
   "metadata": {},
   "source": [
    "## Different initia"
   ]
  },
  {
   "cell_type": "code",
   "execution_count": null,
   "metadata": {
    "scrolled": true
   },
   "outputs": [],
   "source": [
    "dode = MCDODE(nb, config)\n",
    "dode.add_data(data_dict)\n",
    "res_df = pd.DataFrame(index = range(100), columns = ['y_car', 'y_truck', 'x_car', 'x_truck', 'q_car', 'q_truck',\n",
    "                                                   'c_car', 'c_truck'])\n",
    "for i in range(100):\n",
    "    dode = MCDODE(nb, config)\n",
    "    dode.add_data(data_dict)\n",
    "    (car_flow, truck_flow, l_list) = dode.estimate_path_flow(max_epoch = 100, car_step_size = 1, \n",
    "                                                             truck_step_size = 0.1, car_init_scale = 5, \n",
    "                                                          truck_init_scale = 0.1, adagrad = True)\n",
    "    dta = dode._run_simulation(car_flow, truck_flow)\n",
    "    estimated_car_x = dta.get_link_car_inflow(np.arange(0, dode.num_loading_interval, dode.ass_freq), \n",
    "                  np.arange(0, dode.num_loading_interval, dode.ass_freq) + dode.ass_freq).flatten(order = 'F')\n",
    "    estimated_truck_x = dta.get_link_truck_inflow(np.arange(0, dode.num_loading_interval, dode.ass_freq), \n",
    "                  np.arange(0, dode.num_loading_interval, dode.ass_freq) + dode.ass_freq).flatten(order = 'F')\n",
    "    true_car_q = true_car_f.reshape(3, -1, order = 'F').sum(axis = 0)\n",
    "    est_car_q = car_flow.reshape(3, -1, order = 'F').sum(axis = 0)\n",
    "    true_truck_q = true_truck_f.reshape(3, -1, order = 'F').sum(axis = 0)\n",
    "    est_truck_q = truck_flow.reshape(3, -1, order = 'F').sum(axis = 0)\n",
    "    est_car_tt = dta.get_car_link_tt(np.arange(0, dode.num_loading_interval, dode.ass_freq)).flatten(order = 'F')\n",
    "    est_truck_tt = dta.get_truck_link_tt(np.arange(0, dode.num_loading_interval, dode.ass_freq)).flatten(order = 'F')\n",
    "    y_car = r2_score(m_car, L_car.dot(estimated_car_x))\n",
    "    e_m_truck =L_truck.dot(estimated_truck_x)\n",
    "    y_truck = r2_score(m_truck, e_m_truck)\n",
    "#     truck_flow = true_truck_f + (np.random.rand(len(true_car_f)) * 2- 1) * np.random.rand() * 2\n",
    "    x_car = r2_score(true_car_x, estimated_car_x)\n",
    "    x_truck = r2_score(true_truck_x, estimated_truck_x)\n",
    "    q_car =  r2_score(true_car_q, est_car_q)\n",
    "    q_truck =  r2_score(true_truck_q, est_truck_q)\n",
    "    c_car =  r2(true_car_tt, est_car_tt)\n",
    "    c_truck =  r2(true_truck_tt, est_truck_tt)\n",
    "    print [y_car, y_truck, x_car, x_truck, q_car, q_truck, c_car, c_truck]\n",
    "    res_df.iloc[i] = [y_car, y_truck, x_car, x_truck, q_car, q_truck, c_car, c_truck]"
   ]
  },
  {
   "cell_type": "code",
   "execution_count": null,
   "metadata": {},
   "outputs": [],
   "source": [
    "[y_car, y_truck, x_car, x_truck, q_car, q_truck, c_car, c_truck]"
   ]
  },
  {
   "cell_type": "code",
   "execution_count": null,
   "metadata": {},
   "outputs": [],
   "source": [
    "pickle.dump(res_df, open('initf_res_df.pickle', 'wb'))"
   ]
  },
  {
   "cell_type": "code",
   "execution_count": null,
   "metadata": {},
   "outputs": [],
   "source": [
    "res_df"
   ]
  },
  {
   "cell_type": "code",
   "execution_count": null,
   "metadata": {},
   "outputs": [],
   "source": [
    "res_rdf = pd.DataFrame(index = range(800), columns = ['R-square', 'Vehicle Class', 'Flow'])\n",
    "for i in range(100):\n",
    "#     print i\n",
    "    res_rdf.iloc[i * 8 + 0] = [res_df.iloc[i, 0], 'car', 'Observed Flow']\n",
    "    res_rdf.iloc[i * 8 + 1] = [res_df.iloc[i, 1], 'truck', 'Observed Flow']\n",
    "    res_rdf.iloc[i * 8 + 2] = [res_df.iloc[i, 2], 'car', 'Link Flow']\n",
    "    res_rdf.iloc[i * 8 + 3] = [res_df.iloc[i, 3], 'truck', 'Link Flow']\n",
    "    res_rdf.iloc[i * 8 + 4] = [res_df.iloc[i, 4], 'car', 'OD Demand']\n",
    "    res_rdf.iloc[i * 8 + 5] = [res_df.iloc[i, 5], 'truck', 'OD Demand']\n",
    "    res_rdf.iloc[i * 8 + 6] = [res_df.iloc[i, 6], 'car', 'Link Cost']\n",
    "    res_rdf.iloc[i * 8 + 7] = [res_df.iloc[i, 7], 'truck', 'Link Cost']"
   ]
  },
  {
   "cell_type": "code",
   "execution_count": null,
   "metadata": {},
   "outputs": [],
   "source": [
    "res_rdf['R-square'] = res_rdf['R-square'].astype(np.float32)"
   ]
  },
  {
   "cell_type": "code",
   "execution_count": null,
   "metadata": {},
   "outputs": [],
   "source": [
    "plt.figure(figsize = (16,9), dpi=300)\n",
    "sns.boxplot(x=\"Flow\", y=\"R-square\", hue=\"Vehicle Class\",\n",
    "#                split=True, inner=\"quart\",\n",
    "#                palette={\"Yes\": \"y\", \"No\": \"b\"},\n",
    "                palette=[\"teal\", \"tomato\"], linewidth=1.5, fliersize = 5,\n",
    "               data=res_rdf)\n",
    "plt.show()"
   ]
  },
  {
   "cell_type": "markdown",
   "metadata": {},
   "source": [
    "## Different observation"
   ]
  },
  {
   "cell_type": "code",
   "execution_count": null,
   "metadata": {},
   "outputs": [],
   "source": [
    "dode = MCDODE(nb, config)\n",
    "(f_car, f_truck) = dode.init_path_flow(car_scale = 5, truck_scale = 0.1)\n",
    "pickle.dump((f_car, f_truck, None), open('init4obs.pickle', 'w'))"
   ]
  },
  {
   "cell_type": "code",
   "execution_count": null,
   "metadata": {
    "scrolled": true
   },
   "outputs": [],
   "source": [
    "# res2_df = pd.DataFrame(index = range(100), columns = ['y_car', 'y_truck', 'x_car', 'x_truck', 'q_car', 'q_truck',\n",
    "#                                                    'c_car', 'c_truck'])\n",
    "for jjj in range(97, 100):\n",
    "    observed_link_list = [3, 4, 5, 6]\n",
    "    ml_car = 6\n",
    "    ml_truck = 5\n",
    "    data_dict = dict()\n",
    "    num_interval = nb.config.config_dict['DTA']['max_interval']\n",
    "    # true_car_f = np.random.rand(num_interval * nb.config.config_dict['FIXED']['num_path']) * 300\n",
    "    # true_truck_f = np.random.rand(num_interval * nb.config.config_dict['FIXED']['num_path']) * 30\n",
    "    true_car_f, true_truck_f, _, _, _, _ = pickle.load(open('final_use.pickle', 'r'))\n",
    "    # true_car_x = np.random.rand(num_interval * len(observed_link_list)) * 100\n",
    "    # true_truck_x = np.random.rand(num_interval * len(observed_link_list)) * 10\n",
    "    # L_car_one = np.random.randint(2, size = (ml_car, len(observed_link_list)))\n",
    "    L_car_one = np.array([[1, 0, 0, 1],\n",
    "                          [0, 0, 1, 1],\n",
    "                          [1, 1, 0, 1],\n",
    "                          [1, 0, 1, 1],\n",
    "                          [1, 0, 0, 0],\n",
    "                          [0, 1, 0, 1]])\n",
    "    L_truck_one = np.array([[1, 0, 0, 1],\n",
    "                            [0, 0, 0, 1],\n",
    "                            [1, 1, 0, 1],\n",
    "                            [1, 0, 1, 0],\n",
    "                            [0, 1, 0, 1]])\n",
    "    # L_truck_one = np.random.randint(2, size = (ml_truck, len(observed_link_list)))\n",
    "    L_car = csr_matrix(scipy.linalg.block_diag(*[L_car_one for i in range(num_interval)]))\n",
    "    L_truck = csr_matrix(scipy.linalg.block_diag(*[L_truck_one for i in range(num_interval)]))\n",
    "\n",
    "    config = dict()\n",
    "    config['use_car_link_flow'] = True\n",
    "    config['use_truck_link_flow'] = True\n",
    "    config['use_car_link_tt'] = True\n",
    "    config['use_truck_link_tt'] = True\n",
    "    config['car_count_agg'] = True\n",
    "    config['truck_count_agg'] = True\n",
    "    config['link_car_flow_weight'] = 1\n",
    "    config['link_truck_flow_weight'] = 1\n",
    "    config['link_car_tt_weight'] = 0.1\n",
    "    config['link_truck_tt_weight'] = 0.1\n",
    "    config['num_data'] = 8\n",
    "    config['observed_links'] = observed_link_list\n",
    "    config['paths_list'] = range(nb.config.config_dict['FIXED']['num_path'])\n",
    "\n",
    "\n",
    "    config['compute_car_link_flow_loss'] = True\n",
    "    config['compute_truck_link_flow_loss'] = True\n",
    "    config['compute_car_link_tt_loss'] = True\n",
    "    config['compute_truck_link_tt_loss'] = True\n",
    "\n",
    "    dode = MCDODE(nb, config)\n",
    "    dta = dode._run_simulation(true_car_f, true_truck_f)\n",
    "    true_car_dar, true_truck_dar = dode.get_dar(dta, true_car_f, true_truck_f)\n",
    "\n",
    "    noise_level = 0.1\n",
    "    (true_dar_car, true_dar_truck) = dode.get_dar(dta, true_car_f, true_truck_f)\n",
    "    true_car_x = true_dar_car.dot(true_car_f)\n",
    "    true_truck_x = true_dar_truck.dot(true_truck_f)\n",
    "    true_car_tt = dta.get_car_link_tt(np.arange(0, dode.num_loading_interval, dode.ass_freq)).flatten(order = 'F')\n",
    "    true_truck_tt = dta.get_truck_link_tt(np.arange(0, dode.num_loading_interval, dode.ass_freq)).flatten(order = 'F')\n",
    "    data_dict['car_count_agg_L_list'] = list()\n",
    "    data_dict['truck_count_agg_L_list'] = list()\n",
    "    data_dict['car_link_flow'] = []\n",
    "    data_dict['truck_link_flow'] = []\n",
    "    data_dict['car_link_tt'] = []\n",
    "    data_dict['truck_link_tt'] = []\n",
    "    for i in range(config['num_data']):\n",
    "        true_car_x = dta.get_link_car_inflow(np.arange(0, dode.num_loading_interval, dode.ass_freq), \n",
    "                      np.arange(0, dode.num_loading_interval, dode.ass_freq) + dode.ass_freq).flatten(order = 'F')\n",
    "        true_truck_x = dta.get_link_truck_inflow(np.arange(0, dode.num_loading_interval, dode.ass_freq), \n",
    "                      np.arange(0, dode.num_loading_interval, dode.ass_freq) + dode.ass_freq).flatten(order = 'F')\n",
    "    #     true_car_tt = dta.get_car_link_tt_robust(np.arange(0, dode.num_loading_interval, dode.ass_freq),\n",
    "    #                              np.arange(0, dode.num_loading_interval, dode.ass_freq) + dode.ass_freq).flatten(order = 'F')\n",
    "\n",
    "        m_car = L_car.dot(true_car_x)\n",
    "        m_truck = L_truck.dot(true_truck_x)\n",
    "        data_dict['car_count_agg_L_list'].append(L_car)\n",
    "        data_dict['truck_count_agg_L_list'].append(L_truck)\n",
    "        data_dict['car_link_flow'].append(m_car + np.random.uniform(-1, 1, m_car.shape) * noise_level * m_car)\n",
    "        data_dict['truck_link_flow'].append(m_truck + np.random.uniform(-1, 1, m_truck.shape) * noise_level * m_truck)\n",
    "        data_dict['car_link_tt'].append(true_car_tt + np.random.uniform(-1, 1, true_car_tt.shape) * noise_level * true_car_tt)\n",
    "        data_dict['truck_link_tt'].append(true_truck_tt + np.random.uniform(-1, 1, true_truck_tt.shape) * noise_level * true_truck_tt)\n",
    "        # data_dict['car_link_tt'] = [m_spd_car]\n",
    "        # data_dict['truck_link_tt'] = [m_spd_truck]\n",
    "        \n",
    "    dode = MCDODE(nb, config)\n",
    "    dode.add_data(data_dict)\n",
    "    (car_flow, truck_flow, l_list) = dode.estimate_path_flow(max_epoch = 100, car_step_size = 1, \n",
    "                                                             truck_step_size = 0.1, car_init_scale = 5, \n",
    "                                                          truck_init_scale = 0.1, adagrad = True,\n",
    "                                                            use_file_as_init = 'init4obs.pickle')\n",
    "    dta = dode._run_simulation(car_flow, truck_flow)\n",
    "    estimated_car_x = dta.get_link_car_inflow(np.arange(0, dode.num_loading_interval, dode.ass_freq), \n",
    "                  np.arange(0, dode.num_loading_interval, dode.ass_freq) + dode.ass_freq).flatten(order = 'F')\n",
    "    estimated_truck_x = dta.get_link_truck_inflow(np.arange(0, dode.num_loading_interval, dode.ass_freq), \n",
    "                  np.arange(0, dode.num_loading_interval, dode.ass_freq) + dode.ass_freq).flatten(order = 'F')\n",
    "    true_car_q = true_car_f.reshape(3, -1, order = 'F').sum(axis = 0)\n",
    "    est_car_q = car_flow.reshape(3, -1, order = 'F').sum(axis = 0)\n",
    "    true_truck_q = true_truck_f.reshape(3, -1, order = 'F').sum(axis = 0)\n",
    "    est_truck_q = truck_flow.reshape(3, -1, order = 'F').sum(axis = 0)\n",
    "    est_car_tt = dta.get_car_link_tt(np.arange(0, dode.num_loading_interval, dode.ass_freq)).flatten(order = 'F')\n",
    "    est_truck_tt = dta.get_truck_link_tt(np.arange(0, dode.num_loading_interval, dode.ass_freq)).flatten(order = 'F')\n",
    "    y_car = r2_score(m_car, L_car.dot(estimated_car_x))\n",
    "    e_m_truck =L_truck.dot(estimated_truck_x)\n",
    "    y_truck = r2_score(m_truck, e_m_truck)\n",
    "#     truck_flow = true_truck_f + (np.random.rand(len(true_car_f)) * 2- 1) * np.random.rand() * 2\n",
    "    x_car = r2_score(true_car_x, estimated_car_x)\n",
    "    x_truck = r2_score(true_truck_x, estimated_truck_x)\n",
    "    q_car =  r2_score(true_car_q, est_car_q)\n",
    "    q_truck =  r2_score(true_truck_q, est_truck_q)\n",
    "    c_car =  r2(true_car_tt, est_car_tt)\n",
    "    c_truck =  r2(true_truck_tt, est_truck_tt)\n",
    "    print [y_car, y_truck, x_car, x_truck, q_car, q_truck, c_car, c_truck]\n",
    "    res2_df.iloc[jjj] = [y_car, y_truck, x_car, x_truck, q_car, q_truck, c_car, c_truck]"
   ]
  },
  {
   "cell_type": "code",
   "execution_count": null,
   "metadata": {
    "scrolled": true
   },
   "outputs": [],
   "source": [
    "res2_df"
   ]
  },
  {
   "cell_type": "code",
   "execution_count": null,
   "metadata": {},
   "outputs": [],
   "source": [
    "pickle.dump(res2_df, open('obs_res2_df.pickle', 'wb'))"
   ]
  },
  {
   "cell_type": "code",
   "execution_count": null,
   "metadata": {},
   "outputs": [],
   "source": [
    "res2_rdf = pd.DataFrame(index = range(800), columns = ['R-square', 'Vehicle Class', 'Flow'])\n",
    "for i in range(100):\n",
    "#     print i\n",
    "    res2_rdf.iloc[i * 8 + 0] = [res2_df.iloc[i, 0], 'car', 'Observed Flow']\n",
    "    res2_rdf.iloc[i * 8 + 1] = [res2_df.iloc[i, 1], 'truck', 'Observed Flow']\n",
    "    res2_rdf.iloc[i * 8 + 2] = [res2_df.iloc[i, 2], 'car', 'Link Flow']\n",
    "    res2_rdf.iloc[i * 8 + 3] = [res2_df.iloc[i, 3], 'truck', 'Link Flow']\n",
    "    res2_rdf.iloc[i * 8 + 4] = [res2_df.iloc[i, 4], 'car', 'OD Demand']\n",
    "    res2_rdf.iloc[i * 8 + 5] = [res2_df.iloc[i, 5], 'truck', 'OD Demand']\n",
    "    res2_rdf.iloc[i * 8 + 6] = [res2_df.iloc[i, 6], 'car', 'Link Cost']\n",
    "    res2_rdf.iloc[i * 8 + 7] = [res2_df.iloc[i, 7], 'truck', 'Link Cost']"
   ]
  },
  {
   "cell_type": "code",
   "execution_count": null,
   "metadata": {},
   "outputs": [],
   "source": [
    "res2_rdf['R-square'] = res2_rdf['R-square'].astype(np.float32)"
   ]
  },
  {
   "cell_type": "code",
   "execution_count": null,
   "metadata": {},
   "outputs": [],
   "source": [
    "plt.figure(figsize = (16,9), dpi=300)\n",
    "sns.boxplot(x=\"Flow\", y=\"R-square\", hue=\"Vehicle Class\",\n",
    "#                split=True, inner=\"quart\",\n",
    "#                palette={\"Yes\": \"y\", \"No\": \"b\"},\n",
    "            palette=[\"teal\", \"tomato\"], linewidth=1.5, fliersize = 5,\n",
    "               data=res2_rdf)\n",
    "plt.show()"
   ]
  }
 ],
 "metadata": {
  "kernelspec": {
   "display_name": "Python 2",
   "language": "python",
   "name": "python2"
  },
  "language_info": {
   "codemirror_mode": {
    "name": "ipython",
    "version": 2
   },
   "file_extension": ".py",
   "mimetype": "text/x-python",
   "name": "python",
   "nbconvert_exporter": "python",
   "pygments_lexer": "ipython2",
   "version": "2.7.10"
  }
 },
 "nbformat": 4,
 "nbformat_minor": 2
}
